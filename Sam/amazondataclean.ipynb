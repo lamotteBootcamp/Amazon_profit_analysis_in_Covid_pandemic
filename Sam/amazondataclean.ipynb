{
 "cells": [
  {
   "cell_type": "code",
   "execution_count": 2,
   "metadata": {},
   "outputs": [],
   "source": [
    "# import dependencies\n",
    "from pprint import pprint\n",
    "import pandas as pd\n",
    "import json"
   ]
  },
  {
   "cell_type": "code",
   "execution_count": 7,
   "metadata": {},
   "outputs": [
    {
     "data": {
      "text/html": [
       "<div>\n",
       "<style scoped>\n",
       "    .dataframe tbody tr th:only-of-type {\n",
       "        vertical-align: middle;\n",
       "    }\n",
       "\n",
       "    .dataframe tbody tr th {\n",
       "        vertical-align: top;\n",
       "    }\n",
       "\n",
       "    .dataframe thead th {\n",
       "        text-align: right;\n",
       "    }\n",
       "</style>\n",
       "<table border=\"1\" class=\"dataframe\">\n",
       "  <thead>\n",
       "    <tr style=\"text-align: right;\">\n",
       "      <th></th>\n",
       "      <th>time</th>\n",
       "      <th>transaction count</th>\n",
       "      <th>volume</th>\n",
       "      <th>volume weighted average price</th>\n",
       "      <th>open</th>\n",
       "      <th>close</th>\n",
       "      <th>high</th>\n",
       "      <th>low</th>\n",
       "    </tr>\n",
       "  </thead>\n",
       "  <tbody>\n",
       "    <tr>\n",
       "      <th>0</th>\n",
       "      <td>1604379600000</td>\n",
       "      <td>247963</td>\n",
       "      <td>4897747.0</td>\n",
       "      <td>3045.9706</td>\n",
       "      <td>3018.53</td>\n",
       "      <td>3048.41</td>\n",
       "      <td>3074.90</td>\n",
       "      <td>2980.9800</td>\n",
       "    </tr>\n",
       "    <tr>\n",
       "      <th>1</th>\n",
       "      <td>1604466000000</td>\n",
       "      <td>323719</td>\n",
       "      <td>6839041.0</td>\n",
       "      <td>3208.7783</td>\n",
       "      <td>3159.99</td>\n",
       "      <td>3241.16</td>\n",
       "      <td>3244.85</td>\n",
       "      <td>3139.7300</td>\n",
       "    </tr>\n",
       "    <tr>\n",
       "      <th>2</th>\n",
       "      <td>1604552400000</td>\n",
       "      <td>263106</td>\n",
       "      <td>5785685.0</td>\n",
       "      <td>3333.0865</td>\n",
       "      <td>3319.97</td>\n",
       "      <td>3322.00</td>\n",
       "      <td>3366.80</td>\n",
       "      <td>3288.8800</td>\n",
       "    </tr>\n",
       "    <tr>\n",
       "      <th>3</th>\n",
       "      <td>1604638800000</td>\n",
       "      <td>206123</td>\n",
       "      <td>4617250.0</td>\n",
       "      <td>3285.9249</td>\n",
       "      <td>3304.64</td>\n",
       "      <td>3311.37</td>\n",
       "      <td>3322.00</td>\n",
       "      <td>3232.0000</td>\n",
       "    </tr>\n",
       "    <tr>\n",
       "      <th>4</th>\n",
       "      <td>1604898000000</td>\n",
       "      <td>382356</td>\n",
       "      <td>7190406.0</td>\n",
       "      <td>3206.0707</td>\n",
       "      <td>3231.03</td>\n",
       "      <td>3143.74</td>\n",
       "      <td>3289.00</td>\n",
       "      <td>3112.1057</td>\n",
       "    </tr>\n",
       "  </tbody>\n",
       "</table>\n",
       "</div>"
      ],
      "text/plain": [
       "            time  transaction count     volume  volume weighted average price  \\\n",
       "0  1604379600000             247963  4897747.0                      3045.9706   \n",
       "1  1604466000000             323719  6839041.0                      3208.7783   \n",
       "2  1604552400000             263106  5785685.0                      3333.0865   \n",
       "3  1604638800000             206123  4617250.0                      3285.9249   \n",
       "4  1604898000000             382356  7190406.0                      3206.0707   \n",
       "\n",
       "      open    close     high        low  \n",
       "0  3018.53  3048.41  3074.90  2980.9800  \n",
       "1  3159.99  3241.16  3244.85  3139.7300  \n",
       "2  3319.97  3322.00  3366.80  3288.8800  \n",
       "3  3304.64  3311.37  3322.00  3232.0000  \n",
       "4  3231.03  3143.74  3289.00  3112.1057  "
      ]
     },
     "execution_count": 7,
     "metadata": {},
     "output_type": "execute_result"
    }
   ],
   "source": [
    "raw_df = pd.read_csv('amazon_stock_data_2_year.csv')\n",
    "df = raw_df[['t','n','v','vw','o','c','h','l']].rename(columns={'v':'volume',\\\n",
    "                                                            'vw':'volume weighted average price',\\\n",
    "                                                            'o':'open', 'c':'close',\\\n",
    "                                                            'h':'high', 'l':'low',\\\n",
    "                                                            't':'time','n':'transaction count'})\n",
    "df.sort_values('time', ascending=True)\n",
    "df.head()\n"
   ]
  },
  {
   "cell_type": "code",
   "execution_count": null,
   "metadata": {},
   "outputs": [],
   "source": []
  }
 ],
 "metadata": {
  "kernelspec": {
   "display_name": "Python 3.9.12 ('base')",
   "language": "python",
   "name": "python3"
  },
  "language_info": {
   "codemirror_mode": {
    "name": "ipython",
    "version": 3
   },
   "file_extension": ".py",
   "mimetype": "text/x-python",
   "name": "python",
   "nbconvert_exporter": "python",
   "pygments_lexer": "ipython3",
   "version": "3.9.12"
  },
  "orig_nbformat": 4,
  "vscode": {
   "interpreter": {
    "hash": "e5948ed1682cfcec33af59eba9ffdf6295c215aeb6791036698dcccae16c84d5"
   }
  }
 },
 "nbformat": 4,
 "nbformat_minor": 2
}

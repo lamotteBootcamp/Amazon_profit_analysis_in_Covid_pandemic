{
 "cells": [
  {
   "cell_type": "code",
   "execution_count": 14,
   "metadata": {},
   "outputs": [],
   "source": [
    "# import dependencies\n",
    "from pprint import pprint\n",
    "import pandas as pd\n",
    "import json"
   ]
  },
  {
   "cell_type": "code",
   "execution_count": 21,
   "metadata": {},
   "outputs": [],
   "source": [
    "# raw_df = pd.read_csv('amazon_stock_data_2_year.csv')\n",
    "raw_df = pd.read_csv('AMZN_stock_data_2_year.csv')\n",
    "df = raw_df[['t','n','v','vw','o','c','h','l']].rename(columns={'v':'volume',\\\n",
    "                                                            'vw':'volume weighted average price',\\\n",
    "                                                            'o':'open', 'c':'close',\\\n",
    "                                                            'h':'high', 'l':'low',\\\n",
    "                                                            't':'date','n':'transaction count'})\n",
    "df.sort_values('date', ascending=True)\n",
    "df['date'] = pd.to_datetime(df['date'], origin='unix', unit='ms').dt.date\n"
   ]
  },
  {
   "cell_type": "code",
   "execution_count": 25,
   "metadata": {},
   "outputs": [
    {
     "name": "stdout",
     "output_type": "stream",
     "text": [
      "date column value are in format: <class 'datetime.date'>.\n"
     ]
    },
    {
     "data": {
      "text/html": [
       "<div>\n",
       "<style scoped>\n",
       "    .dataframe tbody tr th:only-of-type {\n",
       "        vertical-align: middle;\n",
       "    }\n",
       "\n",
       "    .dataframe tbody tr th {\n",
       "        vertical-align: top;\n",
       "    }\n",
       "\n",
       "    .dataframe thead th {\n",
       "        text-align: right;\n",
       "    }\n",
       "</style>\n",
       "<table border=\"1\" class=\"dataframe\">\n",
       "  <thead>\n",
       "    <tr style=\"text-align: right;\">\n",
       "      <th></th>\n",
       "      <th>date</th>\n",
       "      <th>transaction count</th>\n",
       "      <th>volume</th>\n",
       "      <th>volume weighted average price</th>\n",
       "      <th>open</th>\n",
       "      <th>close</th>\n",
       "      <th>high</th>\n",
       "      <th>low</th>\n",
       "    </tr>\n",
       "  </thead>\n",
       "  <tbody>\n",
       "    <tr>\n",
       "      <th>0</th>\n",
       "      <td>2020-01-02</td>\n",
       "      <td>102920</td>\n",
       "      <td>4035910.0</td>\n",
       "      <td>1882.8283</td>\n",
       "      <td>1875.00</td>\n",
       "      <td>1898.01</td>\n",
       "      <td>1898.0100</td>\n",
       "      <td>1864.1500</td>\n",
       "    </tr>\n",
       "    <tr>\n",
       "      <th>1</th>\n",
       "      <td>2020-01-03</td>\n",
       "      <td>99633</td>\n",
       "      <td>3766604.0</td>\n",
       "      <td>1875.4284</td>\n",
       "      <td>1864.50</td>\n",
       "      <td>1874.97</td>\n",
       "      <td>1886.1965</td>\n",
       "      <td>1864.5000</td>\n",
       "    </tr>\n",
       "    <tr>\n",
       "      <th>2</th>\n",
       "      <td>2020-01-06</td>\n",
       "      <td>104160</td>\n",
       "      <td>4065698.0</td>\n",
       "      <td>1891.9954</td>\n",
       "      <td>1860.00</td>\n",
       "      <td>1902.88</td>\n",
       "      <td>1903.6900</td>\n",
       "      <td>1860.0000</td>\n",
       "    </tr>\n",
       "    <tr>\n",
       "      <th>3</th>\n",
       "      <td>2020-01-07</td>\n",
       "      <td>98636</td>\n",
       "      <td>4134010.0</td>\n",
       "      <td>1903.2183</td>\n",
       "      <td>1904.50</td>\n",
       "      <td>1906.86</td>\n",
       "      <td>1913.8900</td>\n",
       "      <td>1892.0433</td>\n",
       "    </tr>\n",
       "    <tr>\n",
       "      <th>4</th>\n",
       "      <td>2020-01-08</td>\n",
       "      <td>95706</td>\n",
       "      <td>3511966.0</td>\n",
       "      <td>1900.4983</td>\n",
       "      <td>1898.04</td>\n",
       "      <td>1891.97</td>\n",
       "      <td>1910.9999</td>\n",
       "      <td>1886.4448</td>\n",
       "    </tr>\n",
       "  </tbody>\n",
       "</table>\n",
       "</div>"
      ],
      "text/plain": [
       "         date  transaction count     volume  volume weighted average price  \\\n",
       "0  2020-01-02             102920  4035910.0                      1882.8283   \n",
       "1  2020-01-03              99633  3766604.0                      1875.4284   \n",
       "2  2020-01-06             104160  4065698.0                      1891.9954   \n",
       "3  2020-01-07              98636  4134010.0                      1903.2183   \n",
       "4  2020-01-08              95706  3511966.0                      1900.4983   \n",
       "\n",
       "      open    close       high        low  \n",
       "0  1875.00  1898.01  1898.0100  1864.1500  \n",
       "1  1864.50  1874.97  1886.1965  1864.5000  \n",
       "2  1860.00  1902.88  1903.6900  1860.0000  \n",
       "3  1904.50  1906.86  1913.8900  1892.0433  \n",
       "4  1898.04  1891.97  1910.9999  1886.4448  "
      ]
     },
     "execution_count": 25,
     "metadata": {},
     "output_type": "execute_result"
    }
   ],
   "source": [
    "date_type = type(df['date'][0])\n",
    "print(f'date column value are in format: {date_type}.')\n",
    "df.head()"
   ]
  },
  {
   "cell_type": "code",
   "execution_count": null,
   "metadata": {},
   "outputs": [],
   "source": []
  }
 ],
 "metadata": {
  "kernelspec": {
   "display_name": "Python 3.9.12 ('base')",
   "language": "python",
   "name": "python3"
  },
  "language_info": {
   "codemirror_mode": {
    "name": "ipython",
    "version": 3
   },
   "file_extension": ".py",
   "mimetype": "text/x-python",
   "name": "python",
   "nbconvert_exporter": "python",
   "pygments_lexer": "ipython3",
   "version": "3.9.12"
  },
  "orig_nbformat": 4,
  "vscode": {
   "interpreter": {
    "hash": "e5948ed1682cfcec33af59eba9ffdf6295c215aeb6791036698dcccae16c84d5"
   }
  }
 },
 "nbformat": 4,
 "nbformat_minor": 2
}
